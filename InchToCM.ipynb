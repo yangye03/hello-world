{
 "cells": [
  {
   "cell_type": "code",
   "execution_count": null,
   "metadata": {},
   "outputs": [],
   "source": [
    "name=input(\"Please enter your name.\")\n",
    "\n",
    "inch = float(input(\"Enter length in inches: \"))\n",
    "\n",
    "cm = inch * 2.54\n",
    "\n",
    "print(name + \" is \" + cm + \"tall.\")"
   ]
  }
 ],
 "metadata": {
  "language_info": {
   "name": "python"
  },
  "orig_nbformat": 4
 },
 "nbformat": 4,
 "nbformat_minor": 2
}
